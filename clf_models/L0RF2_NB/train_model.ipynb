{
 "cells": [
  {
   "cell_type": "code",
   "execution_count": 1,
   "metadata": {
    "collapsed": true
   },
   "outputs": [],
   "source": [
    "###\n",
    "#  THIS IS REQUIRED IN A NOTEBOOK TO RESET THE WORKING DIRECTORY\n",
    "#  FROM THE DEFAULT WORKING DIRECTORY ESTABLISHED FOR THE NOTEBOOK\n",
    "###\n",
    "import os\n",
    "os.chdir('../..')  # change to ROO_DIR specified in the configuration file"
   ]
  },
  {
   "cell_type": "code",
   "execution_count": 2,
   "metadata": {},
   "outputs": [
    {
     "name": "stdout",
     "output_type": "stream",
     "text": [
      "retrieving parameters from configuration file: config_clf.yml\n"
     ]
    }
   ],
   "source": [
    "# -*- coding: utf-8 -*-\n",
    "#%%\n",
    "from framework.model_stacking import ModelTrainer, ModelPerformanceTracker\n",
    "from sklearn.ensemble import RandomForestClassifier as ThisModel"
   ]
  },
  {
   "cell_type": "code",
   "execution_count": 15,
   "metadata": {},
   "outputs": [
    {
     "name": "stdout",
     "output_type": "stream",
     "text": [
      "Model training starting for L0RF2_NB with feature set KFSBSLN at 2018-06-23 10:16:28\n",
      "test_prediction_method: all_data_model\n"
     ]
    }
   ],
   "source": [
    "#%%\n",
    "#\n",
    "# Set up model for training\n",
    "#\n",
    "this_model = ModelTrainer(\n",
    "        ModelClass=ThisModel,  #Model algorithm\n",
    "        model_params=dict(n_estimators=200,n_jobs=-1), #hyper-parameters\n",
    "        test_prediction_method = 'all_data_model',\n",
    "        model_id='L0RF2_NB',   # Model Identifier\n",
    "        feature_set='KFSBSLN'  # feature set to use\n",
    "        )\n",
    "\n",
    "model_tracker = ModelPerformanceTracker(model_trainer=this_model)"
   ]
  },
  {
   "cell_type": "code",
   "execution_count": 16,
   "metadata": {
    "collapsed": true
   },
   "outputs": [],
   "source": [
    "#%%\n",
    "#\n",
    "# clear out old results\n",
    "#\n",
    "this_model.cleanPriorResults()"
   ]
  },
  {
   "cell_type": "code",
   "execution_count": 17,
   "metadata": {},
   "outputs": [
    {
     "name": "stdout",
     "output_type": "stream",
     "text": [
      "Starting model training: 2018-06-23 10:16:28\n",
      "running fold: 1 at 2018-06-23 10:16:38\n",
      "running fold: 2 at 2018-06-23 10:17:03\n",
      "running fold: 3 at 2018-06-23 10:17:31\n",
      "running fold: 4 at 2018-06-23 10:17:58\n",
      "running fold: 5 at 2018-06-23 10:18:25\n",
      "test_prediction_method='all_data_model', building final model with all data\n"
     ]
    }
   ],
   "source": [
    "#%%\n",
    "#\n",
    "# train model on all the data\n",
    "#\n",
    "this_model.trainModel()"
   ]
  },
  {
   "cell_type": "code",
   "execution_count": 18,
   "metadata": {},
   "outputs": [
    {
     "name": "stdout",
     "output_type": "stream",
     "text": [
      "Starting createTestPredictions: 2018-06-23 10:19:31\n",
      "using all_data_model predictions for test data set\n"
     ]
    }
   ],
   "source": [
    "#%%\n",
    "# create Test predictions\n",
    "this_model.createTestPredictions()"
   ]
  },
  {
   "cell_type": "code",
   "execution_count": 19,
   "metadata": {},
   "outputs": [
    {
     "name": "stdout",
     "output_type": "stream",
     "text": [
      "Starting createKaggleSubmission: 2018-06-23 10:19:45\n",
      "Completed createKaggleSubmission: 2018-06-23 10:19:46\n"
     ]
    }
   ],
   "source": [
    "#%%\n",
    "#\n",
    "# create Kaggle submission\n",
    "#\n",
    "this_model.createKaggleSubmission()"
   ]
  },
  {
   "cell_type": "code",
   "execution_count": 20,
   "metadata": {
    "collapsed": true
   },
   "outputs": [],
   "source": [
    "#%%\n",
    "#\n",
    "# record model performance metrics\n",
    "#\n",
    "model_tracker.recordModelPerformance()\n",
    "\n",
    "#%%"
   ]
  },
  {
   "cell_type": "code",
   "execution_count": null,
   "metadata": {
    "collapsed": true
   },
   "outputs": [],
   "source": []
  }
 ],
 "metadata": {
  "kernelspec": {
   "display_name": "Python 3",
   "language": "python",
   "name": "python3"
  },
  "language_info": {
   "codemirror_mode": {
    "name": "ipython",
    "version": 3
   },
   "file_extension": ".py",
   "mimetype": "text/x-python",
   "name": "python",
   "nbconvert_exporter": "python",
   "pygments_lexer": "ipython3",
   "version": "3.6.1"
  }
 },
 "nbformat": 4,
 "nbformat_minor": 2
}
