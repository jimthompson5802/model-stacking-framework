{
 "cells": [
  {
   "cell_type": "code",
   "execution_count": 1,
   "metadata": {
    "collapsed": true
   },
   "outputs": [],
   "source": [
    "# required to get access to model_stacking package\n",
    "import os\n",
    "os.chdir('../..')"
   ]
  },
  {
   "cell_type": "code",
   "execution_count": 2,
   "metadata": {},
   "outputs": [
    {
     "name": "stdout",
     "output_type": "stream",
     "text": [
      "retrieving configuration file: config.yml from current working directory\n"
     ]
    }
   ],
   "source": [
    "import pandas as pd\n",
    "import numpy as np\n",
    "import matplotlib.pyplot as plt\n",
    "import seaborn as sns\n",
    "import os.path\n",
    "from framework.model_stacking import getConfigParameters\n",
    "import pickle"
   ]
  },
  {
   "cell_type": "code",
   "execution_count": 3,
   "metadata": {
    "collapsed": true
   },
   "outputs": [],
   "source": [
    "CONFIG = getConfigParameters()\n",
    "ROOT_DIR = CONFIG['ROOT_DIR']\n",
    "DATA_DIR = CONFIG['DATA_DIR']\n",
    "ID_VAR = CONFIG['ID_VAR']\n",
    "TARGET_VAR = CONFIG['TARGET_VAR']"
   ]
  },
  {
   "cell_type": "code",
   "execution_count": 23,
   "metadata": {},
   "outputs": [],
   "source": [
    "from sklearn.ensemble import RandomForestRegressor as ThisModel\n",
    "from sklearn.pipeline import Pipeline\n",
    "from sklearn.model_selection import GridSearchCV, RandomizedSearchCV\n",
    "from sklearn.metrics import mean_squared_error, make_scorer\n",
    "from scipy.stats import randint"
   ]
  },
  {
   "cell_type": "markdown",
   "metadata": {},
   "source": [
    "## Get Training Data"
   ]
  },
  {
   "cell_type": "code",
   "execution_count": 6,
   "metadata": {
    "collapsed": true
   },
   "outputs": [],
   "source": [
    "# get training data\n",
    "train_df = pd.read_csv(os.path.join(ROOT_DIR,DATA_DIR,'KFS01','train.csv.gz'))"
   ]
  },
  {
   "cell_type": "code",
   "execution_count": 7,
   "metadata": {
    "collapsed": true
   },
   "outputs": [],
   "source": [
    "X_train = train_df.drop(ID_VAR + [TARGET_VAR],axis=1)\n",
    "y_train = train_df.loc[:,TARGET_VAR]"
   ]
  },
  {
   "cell_type": "code",
   "execution_count": 8,
   "metadata": {},
   "outputs": [
    {
     "data": {
      "text/plain": [
       "(4459, 4730)"
      ]
     },
     "execution_count": 8,
     "metadata": {},
     "output_type": "execute_result"
    }
   ],
   "source": [
    "X_train.shape"
   ]
  },
  {
   "cell_type": "code",
   "execution_count": 9,
   "metadata": {},
   "outputs": [
    {
     "data": {
      "text/plain": [
       "(4459,)"
      ]
     },
     "execution_count": 9,
     "metadata": {},
     "output_type": "execute_result"
    }
   ],
   "source": [
    "y_train.shape"
   ]
  },
  {
   "cell_type": "code",
   "execution_count": 10,
   "metadata": {},
   "outputs": [
    {
     "data": {
      "text/plain": [
       "0    17.453097\n",
       "1    13.304687\n",
       "2    16.118096\n",
       "3    14.508658\n",
       "4    16.482739\n",
       "5    14.845130\n",
       "6    12.007628\n",
       "7    13.304687\n",
       "8    13.794288\n",
       "9    13.038984\n",
       "Name: target, dtype: float64"
      ]
     },
     "execution_count": 10,
     "metadata": {},
     "output_type": "execute_result"
    }
   ],
   "source": [
    "y_train[:10]"
   ]
  },
  {
   "cell_type": "markdown",
   "metadata": {},
   "source": [
    "## Setup pipeline for hyper-parameter tuning"
   ]
  },
  {
   "cell_type": "code",
   "execution_count": 24,
   "metadata": {
    "collapsed": true
   },
   "outputs": [],
   "source": [
    "# set up pipeline\n",
    "pipe = Pipeline([('this_model',ThisModel(n_jobs=-1))])"
   ]
  },
  {
   "cell_type": "raw",
   "metadata": {
    "collapsed": true
   },
   "source": [
    "this_scorer = make_scorer(lambda y, y_hat: np.sqrt(mean_squared_error(y,y_hat)),greater_is_better=False)"
   ]
  },
  {
   "cell_type": "code",
   "execution_count": 25,
   "metadata": {
    "collapsed": true
   },
   "outputs": [],
   "source": [
    "def kag_rmsle(y,y_hat):\n",
    "    return np.sqrt(mean_squared_error(y,y_hat))\n",
    "\n",
    "this_scorer = make_scorer(kag_rmsle, greater_is_better=False)"
   ]
  },
  {
   "cell_type": "code",
   "execution_count": 27,
   "metadata": {},
   "outputs": [],
   "source": [
    "param_grid = dict(this_model__n_estimators=randint(50,500),\n",
    "                 this_model__max_depth=randint(3,10))\n",
    "grid_search = RandomizedSearchCV(pipe, param_distributions=param_grid,scoring=this_scorer,cv=5,\n",
    "                                 n_iter=10,\n",
    "                                 verbose=1,\n",
    "                                 n_jobs=1,\n",
    "                                  refit=False)"
   ]
  },
  {
   "cell_type": "code",
   "execution_count": 28,
   "metadata": {},
   "outputs": [
    {
     "name": "stdout",
     "output_type": "stream",
     "text": [
      "Fitting 5 folds for each of 10 candidates, totalling 50 fits\n",
      "[CV] this_model__max_depth=3, this_model__n_estimators=456 ...........\n",
      "[CV]  this_model__max_depth=3, this_model__n_estimators=456, total=  14.5s\n",
      "[CV] this_model__max_depth=3, this_model__n_estimators=456 ...........\n"
     ]
    },
    {
     "name": "stderr",
     "output_type": "stream",
     "text": [
      "[Parallel(n_jobs=1)]: Done   1 out of   1 | elapsed:   14.7s remaining:    0.0s\n"
     ]
    },
    {
     "name": "stdout",
     "output_type": "stream",
     "text": [
      "[CV]  this_model__max_depth=3, this_model__n_estimators=456, total=  15.5s\n",
      "[CV] this_model__max_depth=3, this_model__n_estimators=456 ...........\n",
      "[CV]  this_model__max_depth=3, this_model__n_estimators=456, total=  16.1s\n",
      "[CV] this_model__max_depth=3, this_model__n_estimators=456 ...........\n",
      "[CV]  this_model__max_depth=3, this_model__n_estimators=456, total=  16.6s\n",
      "[CV] this_model__max_depth=3, this_model__n_estimators=456 ...........\n",
      "[CV]  this_model__max_depth=3, this_model__n_estimators=456, total=  16.6s\n",
      "[CV] this_model__max_depth=9, this_model__n_estimators=357 ...........\n",
      "[CV]  this_model__max_depth=9, this_model__n_estimators=357, total=  39.7s\n",
      "[CV] this_model__max_depth=9, this_model__n_estimators=357 ...........\n",
      "[CV]  this_model__max_depth=9, this_model__n_estimators=357, total=  41.7s\n",
      "[CV] this_model__max_depth=9, this_model__n_estimators=357 ...........\n",
      "[CV]  this_model__max_depth=9, this_model__n_estimators=357, total=  41.2s\n",
      "[CV] this_model__max_depth=9, this_model__n_estimators=357 ...........\n",
      "[CV]  this_model__max_depth=9, this_model__n_estimators=357, total=  40.2s\n",
      "[CV] this_model__max_depth=9, this_model__n_estimators=357 ...........\n",
      "[CV]  this_model__max_depth=9, this_model__n_estimators=357, total=  39.6s\n",
      "[CV] this_model__max_depth=7, this_model__n_estimators=309 ...........\n",
      "[CV]  this_model__max_depth=7, this_model__n_estimators=309, total=  26.6s\n",
      "[CV] this_model__max_depth=7, this_model__n_estimators=309 ...........\n",
      "[CV]  this_model__max_depth=7, this_model__n_estimators=309, total=  26.9s\n",
      "[CV] this_model__max_depth=7, this_model__n_estimators=309 ...........\n",
      "[CV]  this_model__max_depth=7, this_model__n_estimators=309, total=  26.9s\n",
      "[CV] this_model__max_depth=7, this_model__n_estimators=309 ...........\n",
      "[CV]  this_model__max_depth=7, this_model__n_estimators=309, total=  26.9s\n",
      "[CV] this_model__max_depth=7, this_model__n_estimators=309 ...........\n",
      "[CV]  this_model__max_depth=7, this_model__n_estimators=309, total=  27.0s\n",
      "[CV] this_model__max_depth=8, this_model__n_estimators=330 ...........\n",
      "[CV]  this_model__max_depth=8, this_model__n_estimators=330, total=  32.9s\n",
      "[CV] this_model__max_depth=8, this_model__n_estimators=330 ...........\n",
      "[CV]  this_model__max_depth=8, this_model__n_estimators=330, total=  34.4s\n",
      "[CV] this_model__max_depth=8, this_model__n_estimators=330 ...........\n",
      "[CV]  this_model__max_depth=8, this_model__n_estimators=330, total=  32.8s\n",
      "[CV] this_model__max_depth=8, this_model__n_estimators=330 ...........\n",
      "[CV]  this_model__max_depth=8, this_model__n_estimators=330, total=  33.4s\n",
      "[CV] this_model__max_depth=8, this_model__n_estimators=330 ...........\n",
      "[CV]  this_model__max_depth=8, this_model__n_estimators=330, total=  32.7s\n",
      "[CV] this_model__max_depth=3, this_model__n_estimators=409 ...........\n",
      "[CV]  this_model__max_depth=3, this_model__n_estimators=409, total=  14.9s\n",
      "[CV] this_model__max_depth=3, this_model__n_estimators=409 ...........\n",
      "[CV]  this_model__max_depth=3, this_model__n_estimators=409, total=  15.1s\n",
      "[CV] this_model__max_depth=3, this_model__n_estimators=409 ...........\n",
      "[CV]  this_model__max_depth=3, this_model__n_estimators=409, total=  14.7s\n",
      "[CV] this_model__max_depth=3, this_model__n_estimators=409 ...........\n",
      "[CV]  this_model__max_depth=3, this_model__n_estimators=409, total=  15.0s\n",
      "[CV] this_model__max_depth=3, this_model__n_estimators=409 ...........\n",
      "[CV]  this_model__max_depth=3, this_model__n_estimators=409, total=  15.6s\n",
      "[CV] this_model__max_depth=4, this_model__n_estimators=214 ...........\n",
      "[CV]  this_model__max_depth=4, this_model__n_estimators=214, total=  11.1s\n",
      "[CV] this_model__max_depth=4, this_model__n_estimators=214 ...........\n",
      "[CV]  this_model__max_depth=4, this_model__n_estimators=214, total=  11.0s\n",
      "[CV] this_model__max_depth=4, this_model__n_estimators=214 ...........\n",
      "[CV]  this_model__max_depth=4, this_model__n_estimators=214, total=  10.8s\n",
      "[CV] this_model__max_depth=4, this_model__n_estimators=214 ...........\n",
      "[CV]  this_model__max_depth=4, this_model__n_estimators=214, total=  10.5s\n",
      "[CV] this_model__max_depth=4, this_model__n_estimators=214 ...........\n",
      "[CV]  this_model__max_depth=4, this_model__n_estimators=214, total=  10.6s\n",
      "[CV] this_model__max_depth=4, this_model__n_estimators=390 ...........\n",
      "[CV]  this_model__max_depth=4, this_model__n_estimators=390, total=  19.0s\n",
      "[CV] this_model__max_depth=4, this_model__n_estimators=390 ...........\n",
      "[CV]  this_model__max_depth=4, this_model__n_estimators=390, total=  19.0s\n",
      "[CV] this_model__max_depth=4, this_model__n_estimators=390 ...........\n",
      "[CV]  this_model__max_depth=4, this_model__n_estimators=390, total=  19.0s\n",
      "[CV] this_model__max_depth=4, this_model__n_estimators=390 ...........\n",
      "[CV]  this_model__max_depth=4, this_model__n_estimators=390, total=  20.3s\n",
      "[CV] this_model__max_depth=4, this_model__n_estimators=390 ...........\n",
      "[CV]  this_model__max_depth=4, this_model__n_estimators=390, total=  19.2s\n",
      "[CV] this_model__max_depth=6, this_model__n_estimators=103 ...........\n",
      "[CV]  this_model__max_depth=6, this_model__n_estimators=103, total=   7.8s\n",
      "[CV] this_model__max_depth=6, this_model__n_estimators=103 ...........\n",
      "[CV]  this_model__max_depth=6, this_model__n_estimators=103, total=   7.9s\n",
      "[CV] this_model__max_depth=6, this_model__n_estimators=103 ...........\n",
      "[CV]  this_model__max_depth=6, this_model__n_estimators=103, total=   7.8s\n",
      "[CV] this_model__max_depth=6, this_model__n_estimators=103 ...........\n",
      "[CV]  this_model__max_depth=6, this_model__n_estimators=103, total=   7.9s\n",
      "[CV] this_model__max_depth=6, this_model__n_estimators=103 ...........\n",
      "[CV]  this_model__max_depth=6, this_model__n_estimators=103, total=   7.7s\n",
      "[CV] this_model__max_depth=9, this_model__n_estimators=327 ...........\n",
      "[CV]  this_model__max_depth=9, this_model__n_estimators=327, total=  37.1s\n",
      "[CV] this_model__max_depth=9, this_model__n_estimators=327 ...........\n",
      "[CV]  this_model__max_depth=9, this_model__n_estimators=327, total=  38.7s\n",
      "[CV] this_model__max_depth=9, this_model__n_estimators=327 ...........\n",
      "[CV]  this_model__max_depth=9, this_model__n_estimators=327, total=  37.2s\n",
      "[CV] this_model__max_depth=9, this_model__n_estimators=327 ...........\n",
      "[CV]  this_model__max_depth=9, this_model__n_estimators=327, total=  37.1s\n",
      "[CV] this_model__max_depth=9, this_model__n_estimators=327 ...........\n",
      "[CV]  this_model__max_depth=9, this_model__n_estimators=327, total=  36.8s\n",
      "[CV] this_model__max_depth=3, this_model__n_estimators=97 ............\n",
      "[CV]  this_model__max_depth=3, this_model__n_estimators=97, total=   3.8s\n",
      "[CV] this_model__max_depth=3, this_model__n_estimators=97 ............\n",
      "[CV]  this_model__max_depth=3, this_model__n_estimators=97, total=   3.8s\n",
      "[CV] this_model__max_depth=3, this_model__n_estimators=97 ............\n",
      "[CV]  this_model__max_depth=3, this_model__n_estimators=97, total=   3.8s\n",
      "[CV] this_model__max_depth=3, this_model__n_estimators=97 ............\n",
      "[CV]  this_model__max_depth=3, this_model__n_estimators=97, total=   3.9s\n",
      "[CV] this_model__max_depth=3, this_model__n_estimators=97 ............\n",
      "[CV]  this_model__max_depth=3, this_model__n_estimators=97, total=   3.8s\n"
     ]
    },
    {
     "name": "stderr",
     "output_type": "stream",
     "text": [
      "[Parallel(n_jobs=1)]: Done  50 out of  50 | elapsed: 17.7min finished\n"
     ]
    },
    {
     "data": {
      "text/plain": [
       "RandomizedSearchCV(cv=5, error_score='raise',\n",
       "          estimator=Pipeline(steps=[('this_model', RandomForestRegressor(bootstrap=True, criterion='mse', max_depth=None,\n",
       "           max_features='auto', max_leaf_nodes=None,\n",
       "           min_impurity_split=1e-07, min_samples_leaf=1,\n",
       "           min_samples_split=2, min_weight_fraction_leaf=0.0,\n",
       "           n_estimators=10, n_jobs=-1, oob_score=False, random_state=None,\n",
       "           verbose=0, warm_start=False))]),\n",
       "          fit_params={}, iid=True, n_iter=10, n_jobs=1,\n",
       "          param_distributions={'this_model__n_estimators': <scipy.stats._distn_infrastructure.rv_frozen object at 0x112967b38>, 'this_model__max_depth': <scipy.stats._distn_infrastructure.rv_frozen object at 0x10644f2b0>},\n",
       "          pre_dispatch='2*n_jobs', random_state=None, refit=False,\n",
       "          return_train_score=True,\n",
       "          scoring=make_scorer(kag_rmsle, greater_is_better=False),\n",
       "          verbose=2)"
      ]
     },
     "execution_count": 28,
     "metadata": {},
     "output_type": "execute_result"
    }
   ],
   "source": [
    "grid_search.fit(X_train,y_train)"
   ]
  },
  {
   "cell_type": "code",
   "execution_count": 29,
   "metadata": {},
   "outputs": [
    {
     "data": {
      "text/plain": [
       "{'this_model__max_depth': 9, 'this_model__n_estimators': 357}"
      ]
     },
     "execution_count": 29,
     "metadata": {},
     "output_type": "execute_result"
    }
   ],
   "source": [
    "grid_search.best_params_"
   ]
  },
  {
   "cell_type": "code",
   "execution_count": 30,
   "metadata": {},
   "outputs": [
    {
     "data": {
      "text/plain": [
       "-1.5102115780948988"
      ]
     },
     "execution_count": 30,
     "metadata": {},
     "output_type": "execute_result"
    }
   ],
   "source": [
    "grid_search.best_score_"
   ]
  },
  {
   "cell_type": "code",
   "execution_count": 33,
   "metadata": {},
   "outputs": [
    {
     "data": {
      "text/html": [
       "<div>\n",
       "<style>\n",
       "    .dataframe thead tr:only-child th {\n",
       "        text-align: right;\n",
       "    }\n",
       "\n",
       "    .dataframe thead th {\n",
       "        text-align: left;\n",
       "    }\n",
       "\n",
       "    .dataframe tbody tr th {\n",
       "        vertical-align: top;\n",
       "    }\n",
       "</style>\n",
       "<table border=\"1\" class=\"dataframe\">\n",
       "  <thead>\n",
       "    <tr style=\"text-align: right;\">\n",
       "      <th></th>\n",
       "      <th>mean_fit_time</th>\n",
       "      <th>mean_score_time</th>\n",
       "      <th>mean_test_score</th>\n",
       "      <th>mean_train_score</th>\n",
       "      <th>param_this_model__max_depth</th>\n",
       "      <th>param_this_model__n_estimators</th>\n",
       "      <th>params</th>\n",
       "      <th>rank_test_score</th>\n",
       "      <th>split0_test_score</th>\n",
       "      <th>split0_train_score</th>\n",
       "      <th>...</th>\n",
       "      <th>split2_test_score</th>\n",
       "      <th>split2_train_score</th>\n",
       "      <th>split3_test_score</th>\n",
       "      <th>split3_train_score</th>\n",
       "      <th>split4_test_score</th>\n",
       "      <th>split4_train_score</th>\n",
       "      <th>std_fit_time</th>\n",
       "      <th>std_score_time</th>\n",
       "      <th>std_test_score</th>\n",
       "      <th>std_train_score</th>\n",
       "    </tr>\n",
       "  </thead>\n",
       "  <tbody>\n",
       "    <tr>\n",
       "      <th>1</th>\n",
       "      <td>40.336227</td>\n",
       "      <td>0.117225</td>\n",
       "      <td>-1.510212</td>\n",
       "      <td>-1.302399</td>\n",
       "      <td>9</td>\n",
       "      <td>357</td>\n",
       "      <td>{'this_model__max_depth': 9, 'this_model__n_es...</td>\n",
       "      <td>1</td>\n",
       "      <td>-1.476510</td>\n",
       "      <td>-1.300003</td>\n",
       "      <td>...</td>\n",
       "      <td>-1.456272</td>\n",
       "      <td>-1.324416</td>\n",
       "      <td>-1.486890</td>\n",
       "      <td>-1.298430</td>\n",
       "      <td>-1.602173</td>\n",
       "      <td>-1.292912</td>\n",
       "      <td>0.839359</td>\n",
       "      <td>0.002473</td>\n",
       "      <td>0.051778</td>\n",
       "      <td>0.011262</td>\n",
       "    </tr>\n",
       "    <tr>\n",
       "      <th>8</th>\n",
       "      <td>37.264799</td>\n",
       "      <td>0.117023</td>\n",
       "      <td>-1.511644</td>\n",
       "      <td>-1.302622</td>\n",
       "      <td>9</td>\n",
       "      <td>327</td>\n",
       "      <td>{'this_model__max_depth': 9, 'this_model__n_es...</td>\n",
       "      <td>2</td>\n",
       "      <td>-1.479084</td>\n",
       "      <td>-1.298343</td>\n",
       "      <td>...</td>\n",
       "      <td>-1.459901</td>\n",
       "      <td>-1.326680</td>\n",
       "      <td>-1.491348</td>\n",
       "      <td>-1.298687</td>\n",
       "      <td>-1.599829</td>\n",
       "      <td>-1.291844</td>\n",
       "      <td>0.680744</td>\n",
       "      <td>0.002512</td>\n",
       "      <td>0.049382</td>\n",
       "      <td>0.012284</td>\n",
       "    </tr>\n",
       "    <tr>\n",
       "      <th>3</th>\n",
       "      <td>33.122976</td>\n",
       "      <td>0.116198</td>\n",
       "      <td>-1.523093</td>\n",
       "      <td>-1.349697</td>\n",
       "      <td>8</td>\n",
       "      <td>330</td>\n",
       "      <td>{'this_model__max_depth': 8, 'this_model__n_es...</td>\n",
       "      <td>3</td>\n",
       "      <td>-1.485444</td>\n",
       "      <td>-1.347518</td>\n",
       "      <td>...</td>\n",
       "      <td>-1.472438</td>\n",
       "      <td>-1.371839</td>\n",
       "      <td>-1.500321</td>\n",
       "      <td>-1.345976</td>\n",
       "      <td>-1.617054</td>\n",
       "      <td>-1.340453</td>\n",
       "      <td>0.613498</td>\n",
       "      <td>0.002241</td>\n",
       "      <td>0.052192</td>\n",
       "      <td>0.011343</td>\n",
       "    </tr>\n",
       "    <tr>\n",
       "      <th>2</th>\n",
       "      <td>26.753457</td>\n",
       "      <td>0.115146</td>\n",
       "      <td>-1.536568</td>\n",
       "      <td>-1.399200</td>\n",
       "      <td>7</td>\n",
       "      <td>309</td>\n",
       "      <td>{'this_model__max_depth': 7, 'this_model__n_es...</td>\n",
       "      <td>4</td>\n",
       "      <td>-1.501755</td>\n",
       "      <td>-1.402139</td>\n",
       "      <td>...</td>\n",
       "      <td>-1.486199</td>\n",
       "      <td>-1.419668</td>\n",
       "      <td>-1.511875</td>\n",
       "      <td>-1.393706</td>\n",
       "      <td>-1.632572</td>\n",
       "      <td>-1.386504</td>\n",
       "      <td>0.146290</td>\n",
       "      <td>0.002334</td>\n",
       "      <td>0.052466</td>\n",
       "      <td>0.011368</td>\n",
       "    </tr>\n",
       "    <tr>\n",
       "      <th>7</th>\n",
       "      <td>7.713429</td>\n",
       "      <td>0.116984</td>\n",
       "      <td>-1.552546</td>\n",
       "      <td>-1.448691</td>\n",
       "      <td>6</td>\n",
       "      <td>103</td>\n",
       "      <td>{'this_model__max_depth': 6, 'this_model__n_es...</td>\n",
       "      <td>5</td>\n",
       "      <td>-1.508138</td>\n",
       "      <td>-1.448687</td>\n",
       "      <td>...</td>\n",
       "      <td>-1.508645</td>\n",
       "      <td>-1.468553</td>\n",
       "      <td>-1.534080</td>\n",
       "      <td>-1.448003</td>\n",
       "      <td>-1.645241</td>\n",
       "      <td>-1.434440</td>\n",
       "      <td>0.046275</td>\n",
       "      <td>0.001497</td>\n",
       "      <td>0.051043</td>\n",
       "      <td>0.011156</td>\n",
       "    </tr>\n",
       "    <tr>\n",
       "      <th>5</th>\n",
       "      <td>10.658119</td>\n",
       "      <td>0.118517</td>\n",
       "      <td>-1.601178</td>\n",
       "      <td>-1.551342</td>\n",
       "      <td>4</td>\n",
       "      <td>214</td>\n",
       "      <td>{'this_model__max_depth': 4, 'this_model__n_es...</td>\n",
       "      <td>6</td>\n",
       "      <td>-1.551608</td>\n",
       "      <td>-1.557310</td>\n",
       "      <td>...</td>\n",
       "      <td>-1.555670</td>\n",
       "      <td>-1.565704</td>\n",
       "      <td>-1.574972</td>\n",
       "      <td>-1.549195</td>\n",
       "      <td>-1.711592</td>\n",
       "      <td>-1.538051</td>\n",
       "      <td>0.224537</td>\n",
       "      <td>0.001142</td>\n",
       "      <td>0.059190</td>\n",
       "      <td>0.009456</td>\n",
       "    </tr>\n",
       "    <tr>\n",
       "      <th>6</th>\n",
       "      <td>19.190133</td>\n",
       "      <td>0.119030</td>\n",
       "      <td>-1.602158</td>\n",
       "      <td>-1.551575</td>\n",
       "      <td>4</td>\n",
       "      <td>390</td>\n",
       "      <td>{'this_model__max_depth': 4, 'this_model__n_es...</td>\n",
       "      <td>7</td>\n",
       "      <td>-1.552526</td>\n",
       "      <td>-1.558660</td>\n",
       "      <td>...</td>\n",
       "      <td>-1.559717</td>\n",
       "      <td>-1.567027</td>\n",
       "      <td>-1.575387</td>\n",
       "      <td>-1.548163</td>\n",
       "      <td>-1.708940</td>\n",
       "      <td>-1.535910</td>\n",
       "      <td>0.505802</td>\n",
       "      <td>0.000949</td>\n",
       "      <td>0.057486</td>\n",
       "      <td>0.010564</td>\n",
       "    </tr>\n",
       "    <tr>\n",
       "      <th>9</th>\n",
       "      <td>3.724215</td>\n",
       "      <td>0.118103</td>\n",
       "      <td>-1.633703</td>\n",
       "      <td>-1.601944</td>\n",
       "      <td>3</td>\n",
       "      <td>97</td>\n",
       "      <td>{'this_model__max_depth': 3, 'this_model__n_es...</td>\n",
       "      <td>8</td>\n",
       "      <td>-1.579065</td>\n",
       "      <td>-1.610576</td>\n",
       "      <td>...</td>\n",
       "      <td>-1.594646</td>\n",
       "      <td>-1.615252</td>\n",
       "      <td>-1.612481</td>\n",
       "      <td>-1.604739</td>\n",
       "      <td>-1.738243</td>\n",
       "      <td>-1.581767</td>\n",
       "      <td>0.047146</td>\n",
       "      <td>0.001600</td>\n",
       "      <td>0.056553</td>\n",
       "      <td>0.011725</td>\n",
       "    </tr>\n",
       "    <tr>\n",
       "      <th>0</th>\n",
       "      <td>15.741000</td>\n",
       "      <td>0.119691</td>\n",
       "      <td>-1.634104</td>\n",
       "      <td>-1.602370</td>\n",
       "      <td>3</td>\n",
       "      <td>456</td>\n",
       "      <td>{'this_model__max_depth': 3, 'this_model__n_es...</td>\n",
       "      <td>9</td>\n",
       "      <td>-1.581099</td>\n",
       "      <td>-1.611867</td>\n",
       "      <td>...</td>\n",
       "      <td>-1.593807</td>\n",
       "      <td>-1.614486</td>\n",
       "      <td>-1.611828</td>\n",
       "      <td>-1.605013</td>\n",
       "      <td>-1.736617</td>\n",
       "      <td>-1.581402</td>\n",
       "      <td>0.760373</td>\n",
       "      <td>0.003138</td>\n",
       "      <td>0.055864</td>\n",
       "      <td>0.011785</td>\n",
       "    </tr>\n",
       "    <tr>\n",
       "      <th>4</th>\n",
       "      <td>14.973077</td>\n",
       "      <td>0.116919</td>\n",
       "      <td>-1.634656</td>\n",
       "      <td>-1.602830</td>\n",
       "      <td>3</td>\n",
       "      <td>409</td>\n",
       "      <td>{'this_model__max_depth': 3, 'this_model__n_es...</td>\n",
       "      <td>10</td>\n",
       "      <td>-1.581227</td>\n",
       "      <td>-1.611328</td>\n",
       "      <td>...</td>\n",
       "      <td>-1.594994</td>\n",
       "      <td>-1.615254</td>\n",
       "      <td>-1.609146</td>\n",
       "      <td>-1.603829</td>\n",
       "      <td>-1.738645</td>\n",
       "      <td>-1.582309</td>\n",
       "      <td>0.289080</td>\n",
       "      <td>0.002118</td>\n",
       "      <td>0.056746</td>\n",
       "      <td>0.011407</td>\n",
       "    </tr>\n",
       "  </tbody>\n",
       "</table>\n",
       "<p>10 rows × 22 columns</p>\n",
       "</div>"
      ],
      "text/plain": [
       "   mean_fit_time  mean_score_time  mean_test_score  mean_train_score  \\\n",
       "1      40.336227         0.117225        -1.510212         -1.302399   \n",
       "8      37.264799         0.117023        -1.511644         -1.302622   \n",
       "3      33.122976         0.116198        -1.523093         -1.349697   \n",
       "2      26.753457         0.115146        -1.536568         -1.399200   \n",
       "7       7.713429         0.116984        -1.552546         -1.448691   \n",
       "5      10.658119         0.118517        -1.601178         -1.551342   \n",
       "6      19.190133         0.119030        -1.602158         -1.551575   \n",
       "9       3.724215         0.118103        -1.633703         -1.601944   \n",
       "0      15.741000         0.119691        -1.634104         -1.602370   \n",
       "4      14.973077         0.116919        -1.634656         -1.602830   \n",
       "\n",
       "  param_this_model__max_depth param_this_model__n_estimators  \\\n",
       "1                           9                            357   \n",
       "8                           9                            327   \n",
       "3                           8                            330   \n",
       "2                           7                            309   \n",
       "7                           6                            103   \n",
       "5                           4                            214   \n",
       "6                           4                            390   \n",
       "9                           3                             97   \n",
       "0                           3                            456   \n",
       "4                           3                            409   \n",
       "\n",
       "                                              params  rank_test_score  \\\n",
       "1  {'this_model__max_depth': 9, 'this_model__n_es...                1   \n",
       "8  {'this_model__max_depth': 9, 'this_model__n_es...                2   \n",
       "3  {'this_model__max_depth': 8, 'this_model__n_es...                3   \n",
       "2  {'this_model__max_depth': 7, 'this_model__n_es...                4   \n",
       "7  {'this_model__max_depth': 6, 'this_model__n_es...                5   \n",
       "5  {'this_model__max_depth': 4, 'this_model__n_es...                6   \n",
       "6  {'this_model__max_depth': 4, 'this_model__n_es...                7   \n",
       "9  {'this_model__max_depth': 3, 'this_model__n_es...                8   \n",
       "0  {'this_model__max_depth': 3, 'this_model__n_es...                9   \n",
       "4  {'this_model__max_depth': 3, 'this_model__n_es...               10   \n",
       "\n",
       "   split0_test_score  split0_train_score       ...         split2_test_score  \\\n",
       "1          -1.476510           -1.300003       ...                 -1.456272   \n",
       "8          -1.479084           -1.298343       ...                 -1.459901   \n",
       "3          -1.485444           -1.347518       ...                 -1.472438   \n",
       "2          -1.501755           -1.402139       ...                 -1.486199   \n",
       "7          -1.508138           -1.448687       ...                 -1.508645   \n",
       "5          -1.551608           -1.557310       ...                 -1.555670   \n",
       "6          -1.552526           -1.558660       ...                 -1.559717   \n",
       "9          -1.579065           -1.610576       ...                 -1.594646   \n",
       "0          -1.581099           -1.611867       ...                 -1.593807   \n",
       "4          -1.581227           -1.611328       ...                 -1.594994   \n",
       "\n",
       "   split2_train_score  split3_test_score  split3_train_score  \\\n",
       "1           -1.324416          -1.486890           -1.298430   \n",
       "8           -1.326680          -1.491348           -1.298687   \n",
       "3           -1.371839          -1.500321           -1.345976   \n",
       "2           -1.419668          -1.511875           -1.393706   \n",
       "7           -1.468553          -1.534080           -1.448003   \n",
       "5           -1.565704          -1.574972           -1.549195   \n",
       "6           -1.567027          -1.575387           -1.548163   \n",
       "9           -1.615252          -1.612481           -1.604739   \n",
       "0           -1.614486          -1.611828           -1.605013   \n",
       "4           -1.615254          -1.609146           -1.603829   \n",
       "\n",
       "   split4_test_score  split4_train_score  std_fit_time  std_score_time  \\\n",
       "1          -1.602173           -1.292912      0.839359        0.002473   \n",
       "8          -1.599829           -1.291844      0.680744        0.002512   \n",
       "3          -1.617054           -1.340453      0.613498        0.002241   \n",
       "2          -1.632572           -1.386504      0.146290        0.002334   \n",
       "7          -1.645241           -1.434440      0.046275        0.001497   \n",
       "5          -1.711592           -1.538051      0.224537        0.001142   \n",
       "6          -1.708940           -1.535910      0.505802        0.000949   \n",
       "9          -1.738243           -1.581767      0.047146        0.001600   \n",
       "0          -1.736617           -1.581402      0.760373        0.003138   \n",
       "4          -1.738645           -1.582309      0.289080        0.002118   \n",
       "\n",
       "   std_test_score  std_train_score  \n",
       "1        0.051778         0.011262  \n",
       "8        0.049382         0.012284  \n",
       "3        0.052192         0.011343  \n",
       "2        0.052466         0.011368  \n",
       "7        0.051043         0.011156  \n",
       "5        0.059190         0.009456  \n",
       "6        0.057486         0.010564  \n",
       "9        0.056553         0.011725  \n",
       "0        0.055864         0.011785  \n",
       "4        0.056746         0.011407  \n",
       "\n",
       "[10 rows x 22 columns]"
      ]
     },
     "execution_count": 33,
     "metadata": {},
     "output_type": "execute_result"
    }
   ],
   "source": [
    "pd.DataFrame(grid_search.cv_results_).sort_values('rank_test_score')"
   ]
  },
  {
   "cell_type": "code",
   "execution_count": 20,
   "metadata": {},
   "outputs": [
    {
     "data": {
      "text/plain": [
       "3.6055512754639891"
      ]
     },
     "execution_count": 20,
     "metadata": {},
     "output_type": "execute_result"
    }
   ],
   "source": [
    "np.sqrt(13)"
   ]
  },
  {
   "cell_type": "code",
   "execution_count": null,
   "metadata": {
    "collapsed": true
   },
   "outputs": [],
   "source": []
  }
 ],
 "metadata": {
  "kernelspec": {
   "display_name": "Python 3",
   "language": "python",
   "name": "python3"
  },
  "language_info": {
   "codemirror_mode": {
    "name": "ipython",
    "version": 3
   },
   "file_extension": ".py",
   "mimetype": "text/x-python",
   "name": "python",
   "nbconvert_exporter": "python",
   "pygments_lexer": "ipython3",
   "version": "3.6.1"
  }
 },
 "nbformat": 4,
 "nbformat_minor": 2
}
