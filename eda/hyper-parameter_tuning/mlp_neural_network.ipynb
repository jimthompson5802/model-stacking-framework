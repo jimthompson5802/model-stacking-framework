{
 "cells": [
  {
   "cell_type": "code",
   "execution_count": 1,
   "metadata": {
    "collapsed": true
   },
   "outputs": [],
   "source": [
    "# required to get access to model_stacking package\n",
    "import os\n",
    "os.chdir('../..')"
   ]
  },
  {
   "cell_type": "code",
   "execution_count": 2,
   "metadata": {},
   "outputs": [
    {
     "name": "stdout",
     "output_type": "stream",
     "text": [
      "retrieving configuration file: config.yml from current working directory\n"
     ]
    }
   ],
   "source": [
    "import pandas as pd\n",
    "import numpy as np\n",
    "import matplotlib.pyplot as plt\n",
    "import seaborn as sns\n",
    "import os.path\n",
    "from framework.model_stacking import getConfigParameters\n",
    "import pickle"
   ]
  },
  {
   "cell_type": "code",
   "execution_count": 3,
   "metadata": {
    "collapsed": true
   },
   "outputs": [],
   "source": [
    "CONFIG = getConfigParameters()\n",
    "ROOT_DIR = CONFIG['ROOT_DIR']\n",
    "DATA_DIR = CONFIG['DATA_DIR']\n",
    "ID_VAR = CONFIG['ID_VAR']\n",
    "TARGET_VAR = CONFIG['TARGET_VAR']"
   ]
  },
  {
   "cell_type": "code",
   "execution_count": 4,
   "metadata": {
    "collapsed": true
   },
   "outputs": [],
   "source": [
    "from sklearn.neural_network import MLPRegressor\n",
    "from sklearn.pipeline import Pipeline\n",
    "from sklearn.model_selection import GridSearchCV\n",
    "from sklearn.metrics import mean_squared_error, make_scorer"
   ]
  },
  {
   "cell_type": "markdown",
   "metadata": {},
   "source": [
    "## Get Training Data"
   ]
  },
  {
   "cell_type": "code",
   "execution_count": 5,
   "metadata": {
    "collapsed": true
   },
   "outputs": [],
   "source": [
    "# get training data\n",
    "train_df = pd.read_csv(os.path.join(ROOT_DIR,DATA_DIR,'KFS01','train.csv.gz'))"
   ]
  },
  {
   "cell_type": "code",
   "execution_count": 6,
   "metadata": {
    "collapsed": true
   },
   "outputs": [],
   "source": [
    "X_train = train_df.drop(ID_VAR + [TARGET_VAR],axis=1)\n",
    "y_train = train_df.loc[:,TARGET_VAR]"
   ]
  },
  {
   "cell_type": "code",
   "execution_count": 7,
   "metadata": {},
   "outputs": [
    {
     "data": {
      "text/plain": [
       "(4459, 4730)"
      ]
     },
     "execution_count": 7,
     "metadata": {},
     "output_type": "execute_result"
    }
   ],
   "source": [
    "X_train.shape"
   ]
  },
  {
   "cell_type": "code",
   "execution_count": 8,
   "metadata": {},
   "outputs": [
    {
     "data": {
      "text/plain": [
       "(4459,)"
      ]
     },
     "execution_count": 8,
     "metadata": {},
     "output_type": "execute_result"
    }
   ],
   "source": [
    "y_train.shape"
   ]
  },
  {
   "cell_type": "code",
   "execution_count": 9,
   "metadata": {},
   "outputs": [
    {
     "data": {
      "text/plain": [
       "0    17.453097\n",
       "1    13.304687\n",
       "2    16.118096\n",
       "3    14.508658\n",
       "4    16.482739\n",
       "5    14.845130\n",
       "6    12.007628\n",
       "7    13.304687\n",
       "8    13.794288\n",
       "9    13.038984\n",
       "Name: target, dtype: float64"
      ]
     },
     "execution_count": 9,
     "metadata": {},
     "output_type": "execute_result"
    }
   ],
   "source": [
    "y_train[:10]"
   ]
  },
  {
   "cell_type": "markdown",
   "metadata": {},
   "source": [
    "## Setup pipeline for hyper-parameter tuning"
   ]
  },
  {
   "cell_type": "code",
   "execution_count": 10,
   "metadata": {
    "collapsed": true
   },
   "outputs": [],
   "source": [
    "# set up pipeline\n",
    "pipe = Pipeline([('nnet',MLPRegressor(max_iter=700))])"
   ]
  },
  {
   "cell_type": "raw",
   "metadata": {
    "collapsed": true
   },
   "source": [
    "this_scorer = make_scorer(lambda y, y_hat: np.sqrt(mean_squared_error(y,y_hat)),greater_is_better=False)"
   ]
  },
  {
   "cell_type": "code",
   "execution_count": 32,
   "metadata": {},
   "outputs": [],
   "source": [
    "def kag_rmsle(y,y_hat):\n",
    "    return np.sqrt(mean_squared_error(y,y_hat))\n",
    "\n",
    "this_scorer = make_scorer(kag_rmsle, greater_is_better=False)"
   ]
  },
  {
   "cell_type": "code",
   "execution_count": 33,
   "metadata": {
    "collapsed": true
   },
   "outputs": [],
   "source": [
    "param_grid = dict(nnet__hidden_layer_sizes=[(5,1),(5,)])\n",
    "grid_search = GridSearchCV(pipe, param_grid=param_grid,scoring=this_scorer,cv=5,verbose=2,n_jobs=1,\n",
    "                          refit=False)"
   ]
  },
  {
   "cell_type": "code",
   "execution_count": 34,
   "metadata": {},
   "outputs": [
    {
     "name": "stdout",
     "output_type": "stream",
     "text": [
      "Fitting 5 folds for each of 2 candidates, totalling 10 fits\n",
      "[CV] nnet__hidden_layer_sizes=(5, 1) .................................\n"
     ]
    },
    {
     "name": "stderr",
     "output_type": "stream",
     "text": [
      "/Users/jim/anaconda3/lib/python3.6/site-packages/sklearn/neural_network/multilayer_perceptron.py:563: ConvergenceWarning: Stochastic Optimizer: Maximum iterations reached and the optimization hasn't converged yet.\n",
      "  % (), ConvergenceWarning)\n",
      "[Parallel(n_jobs=1)]: Done   1 out of   1 | elapsed:  1.3min remaining:    0.0s\n"
     ]
    },
    {
     "name": "stdout",
     "output_type": "stream",
     "text": [
      "[CV] .................. nnet__hidden_layer_sizes=(5, 1), total= 1.3min\n",
      "[CV] nnet__hidden_layer_sizes=(5, 1) .................................\n"
     ]
    },
    {
     "name": "stderr",
     "output_type": "stream",
     "text": [
      "/Users/jim/anaconda3/lib/python3.6/site-packages/sklearn/neural_network/multilayer_perceptron.py:563: ConvergenceWarning: Stochastic Optimizer: Maximum iterations reached and the optimization hasn't converged yet.\n",
      "  % (), ConvergenceWarning)\n"
     ]
    },
    {
     "name": "stdout",
     "output_type": "stream",
     "text": [
      "[CV] .................. nnet__hidden_layer_sizes=(5, 1), total= 1.3min\n",
      "[CV] nnet__hidden_layer_sizes=(5, 1) .................................\n"
     ]
    },
    {
     "name": "stderr",
     "output_type": "stream",
     "text": [
      "/Users/jim/anaconda3/lib/python3.6/site-packages/sklearn/neural_network/multilayer_perceptron.py:563: ConvergenceWarning: Stochastic Optimizer: Maximum iterations reached and the optimization hasn't converged yet.\n",
      "  % (), ConvergenceWarning)\n"
     ]
    },
    {
     "name": "stdout",
     "output_type": "stream",
     "text": [
      "[CV] .................. nnet__hidden_layer_sizes=(5, 1), total= 1.3min\n",
      "[CV] nnet__hidden_layer_sizes=(5, 1) .................................\n",
      "[CV] .................. nnet__hidden_layer_sizes=(5, 1), total=  32.7s\n",
      "[CV] nnet__hidden_layer_sizes=(5, 1) .................................\n"
     ]
    },
    {
     "name": "stderr",
     "output_type": "stream",
     "text": [
      "/Users/jim/anaconda3/lib/python3.6/site-packages/sklearn/neural_network/multilayer_perceptron.py:563: ConvergenceWarning: Stochastic Optimizer: Maximum iterations reached and the optimization hasn't converged yet.\n",
      "  % (), ConvergenceWarning)\n"
     ]
    },
    {
     "name": "stdout",
     "output_type": "stream",
     "text": [
      "[CV] .................. nnet__hidden_layer_sizes=(5, 1), total= 1.3min\n",
      "[CV] nnet__hidden_layer_sizes=(5,) ...................................\n",
      "[CV] .................... nnet__hidden_layer_sizes=(5,), total=  38.6s\n",
      "[CV] nnet__hidden_layer_sizes=(5,) ...................................\n",
      "[CV] .................... nnet__hidden_layer_sizes=(5,), total=  57.8s\n",
      "[CV] nnet__hidden_layer_sizes=(5,) ...................................\n",
      "[CV] .................... nnet__hidden_layer_sizes=(5,), total=  53.5s\n",
      "[CV] nnet__hidden_layer_sizes=(5,) ...................................\n"
     ]
    },
    {
     "name": "stderr",
     "output_type": "stream",
     "text": [
      "/Users/jim/anaconda3/lib/python3.6/site-packages/sklearn/neural_network/multilayer_perceptron.py:563: ConvergenceWarning: Stochastic Optimizer: Maximum iterations reached and the optimization hasn't converged yet.\n",
      "  % (), ConvergenceWarning)\n"
     ]
    },
    {
     "name": "stdout",
     "output_type": "stream",
     "text": [
      "[CV] .................... nnet__hidden_layer_sizes=(5,), total= 1.4min\n",
      "[CV] nnet__hidden_layer_sizes=(5,) ...................................\n",
      "[CV] .................... nnet__hidden_layer_sizes=(5,), total=  33.6s\n"
     ]
    },
    {
     "name": "stderr",
     "output_type": "stream",
     "text": [
      "[Parallel(n_jobs=1)]: Done  10 out of  10 | elapsed: 10.2min finished\n"
     ]
    },
    {
     "data": {
      "text/plain": [
       "GridSearchCV(cv=5, error_score='raise',\n",
       "       estimator=Pipeline(steps=[('nnet', MLPRegressor(activation='relu', alpha=0.0001, batch_size='auto', beta_1=0.9,\n",
       "       beta_2=0.999, early_stopping=False, epsilon=1e-08,\n",
       "       hidden_layer_sizes=(100,), learning_rate='constant',\n",
       "       learning_rate_init=0.001, max_iter=700, momentum=0.9,\n",
       "       nesterovs_momentum=True, power_t=0.5, random_state=None,\n",
       "       shuffle=True, solver='adam', tol=0.0001, validation_fraction=0.1,\n",
       "       verbose=False, warm_start=False))]),\n",
       "       fit_params={}, iid=True, n_jobs=1,\n",
       "       param_grid={'nnet__hidden_layer_sizes': [(5, 1), (5,)]},\n",
       "       pre_dispatch='2*n_jobs', refit=False, return_train_score=True,\n",
       "       scoring=make_scorer(kag_rmsle, greater_is_better=False), verbose=2)"
      ]
     },
     "execution_count": 34,
     "metadata": {},
     "output_type": "execute_result"
    }
   ],
   "source": [
    "grid_search.fit(X_train,y_train)"
   ]
  },
  {
   "cell_type": "code",
   "execution_count": 35,
   "metadata": {},
   "outputs": [
    {
     "data": {
      "text/plain": [
       "{'nnet__hidden_layer_sizes': (5, 1)}"
      ]
     },
     "execution_count": 35,
     "metadata": {},
     "output_type": "execute_result"
    }
   ],
   "source": [
    "grid_search.best_params_"
   ]
  },
  {
   "cell_type": "code",
   "execution_count": 36,
   "metadata": {},
   "outputs": [
    {
     "data": {
      "text/plain": [
       "-3.6783800706480596"
      ]
     },
     "execution_count": 36,
     "metadata": {},
     "output_type": "execute_result"
    }
   ],
   "source": [
    "grid_search.best_score_"
   ]
  },
  {
   "cell_type": "code",
   "execution_count": 37,
   "metadata": {},
   "outputs": [
    {
     "data": {
      "text/plain": [
       "{'mean_fit_time': array([ 68.58774309,  53.17852821]),\n",
       " 'mean_score_time': array([ 0.00542865,  0.00500793]),\n",
       " 'mean_test_score': array([-3.67838007, -3.75431456]),\n",
       " 'mean_train_score': array([-3.20334559, -1.58525507]),\n",
       " 'param_nnet__hidden_layer_sizes': masked_array(data = [(5, 1) (5,)],\n",
       "              mask = [False False],\n",
       "        fill_value = ?),\n",
       " 'params': ({'nnet__hidden_layer_sizes': (5, 1)},\n",
       "  {'nnet__hidden_layer_sizes': (5,)}),\n",
       " 'rank_test_score': array([1, 2], dtype=int32),\n",
       " 'split0_test_score': array([-4.22215631, -3.34518213]),\n",
       " 'split0_train_score': array([-4.11892293, -0.92202645]),\n",
       " 'split1_test_score': array([-4.10775146, -4.02555327]),\n",
       " 'split1_train_score': array([-4.14868659, -0.85746633]),\n",
       " 'split2_test_score': array([-2.82575763, -3.92754302]),\n",
       " 'split2_train_score': array([-2.82218153, -0.87931378]),\n",
       " 'split3_test_score': array([-3.26471061, -4.2944781 ]),\n",
       " 'split3_train_score': array([-0.91604212, -4.33098164]),\n",
       " 'split4_test_score': array([-3.97185335, -3.17817038]),\n",
       " 'split4_train_score': array([-4.0108948 , -0.93648716]),\n",
       " 'std_fit_time': array([ 17.96586548,  17.21684616]),\n",
       " 'std_score_time': array([ 0.00178066,  0.00046986]),\n",
       " 'std_test_score': array([ 0.54120203,  0.42296929]),\n",
       " 'std_train_score': array([ 1.24588365,  1.37315811])}"
      ]
     },
     "execution_count": 37,
     "metadata": {},
     "output_type": "execute_result"
    }
   ],
   "source": [
    "grid_search.cv_results_"
   ]
  },
  {
   "cell_type": "code",
   "execution_count": 38,
   "metadata": {},
   "outputs": [
    {
     "data": {
      "text/plain": [
       "5"
      ]
     },
     "execution_count": 38,
     "metadata": {},
     "output_type": "execute_result"
    }
   ],
   "source": [
    "grid_search.n_splits_"
   ]
  },
  {
   "cell_type": "code",
   "execution_count": 39,
   "metadata": {},
   "outputs": [
    {
     "data": {
      "text/html": [
       "<div>\n",
       "<style>\n",
       "    .dataframe thead tr:only-child th {\n",
       "        text-align: right;\n",
       "    }\n",
       "\n",
       "    .dataframe thead th {\n",
       "        text-align: left;\n",
       "    }\n",
       "\n",
       "    .dataframe tbody tr th {\n",
       "        vertical-align: top;\n",
       "    }\n",
       "</style>\n",
       "<table border=\"1\" class=\"dataframe\">\n",
       "  <thead>\n",
       "    <tr style=\"text-align: right;\">\n",
       "      <th></th>\n",
       "      <th>mean_fit_time</th>\n",
       "      <th>mean_score_time</th>\n",
       "      <th>mean_test_score</th>\n",
       "      <th>mean_train_score</th>\n",
       "      <th>param_nnet__hidden_layer_sizes</th>\n",
       "      <th>params</th>\n",
       "      <th>rank_test_score</th>\n",
       "      <th>split0_test_score</th>\n",
       "      <th>split0_train_score</th>\n",
       "      <th>split1_test_score</th>\n",
       "      <th>...</th>\n",
       "      <th>split2_test_score</th>\n",
       "      <th>split2_train_score</th>\n",
       "      <th>split3_test_score</th>\n",
       "      <th>split3_train_score</th>\n",
       "      <th>split4_test_score</th>\n",
       "      <th>split4_train_score</th>\n",
       "      <th>std_fit_time</th>\n",
       "      <th>std_score_time</th>\n",
       "      <th>std_test_score</th>\n",
       "      <th>std_train_score</th>\n",
       "    </tr>\n",
       "  </thead>\n",
       "  <tbody>\n",
       "    <tr>\n",
       "      <th>0</th>\n",
       "      <td>68.587743</td>\n",
       "      <td>0.005429</td>\n",
       "      <td>-3.678380</td>\n",
       "      <td>-3.203346</td>\n",
       "      <td>(5, 1)</td>\n",
       "      <td>{'nnet__hidden_layer_sizes': (5, 1)}</td>\n",
       "      <td>1</td>\n",
       "      <td>-4.222156</td>\n",
       "      <td>-4.118923</td>\n",
       "      <td>-4.107751</td>\n",
       "      <td>...</td>\n",
       "      <td>-2.825758</td>\n",
       "      <td>-2.822182</td>\n",
       "      <td>-3.264711</td>\n",
       "      <td>-0.916042</td>\n",
       "      <td>-3.971853</td>\n",
       "      <td>-4.010895</td>\n",
       "      <td>17.965865</td>\n",
       "      <td>0.001781</td>\n",
       "      <td>0.541202</td>\n",
       "      <td>1.245884</td>\n",
       "    </tr>\n",
       "    <tr>\n",
       "      <th>1</th>\n",
       "      <td>53.178528</td>\n",
       "      <td>0.005008</td>\n",
       "      <td>-3.754315</td>\n",
       "      <td>-1.585255</td>\n",
       "      <td>(5,)</td>\n",
       "      <td>{'nnet__hidden_layer_sizes': (5,)}</td>\n",
       "      <td>2</td>\n",
       "      <td>-3.345182</td>\n",
       "      <td>-0.922026</td>\n",
       "      <td>-4.025553</td>\n",
       "      <td>...</td>\n",
       "      <td>-3.927543</td>\n",
       "      <td>-0.879314</td>\n",
       "      <td>-4.294478</td>\n",
       "      <td>-4.330982</td>\n",
       "      <td>-3.178170</td>\n",
       "      <td>-0.936487</td>\n",
       "      <td>17.216846</td>\n",
       "      <td>0.000470</td>\n",
       "      <td>0.422969</td>\n",
       "      <td>1.373158</td>\n",
       "    </tr>\n",
       "  </tbody>\n",
       "</table>\n",
       "<p>2 rows × 21 columns</p>\n",
       "</div>"
      ],
      "text/plain": [
       "   mean_fit_time  mean_score_time  mean_test_score  mean_train_score  \\\n",
       "0      68.587743         0.005429        -3.678380         -3.203346   \n",
       "1      53.178528         0.005008        -3.754315         -1.585255   \n",
       "\n",
       "  param_nnet__hidden_layer_sizes                                params  \\\n",
       "0                         (5, 1)  {'nnet__hidden_layer_sizes': (5, 1)}   \n",
       "1                           (5,)    {'nnet__hidden_layer_sizes': (5,)}   \n",
       "\n",
       "   rank_test_score  split0_test_score  split0_train_score  split1_test_score  \\\n",
       "0                1          -4.222156           -4.118923          -4.107751   \n",
       "1                2          -3.345182           -0.922026          -4.025553   \n",
       "\n",
       "        ...         split2_test_score  split2_train_score  split3_test_score  \\\n",
       "0       ...                 -2.825758           -2.822182          -3.264711   \n",
       "1       ...                 -3.927543           -0.879314          -4.294478   \n",
       "\n",
       "   split3_train_score  split4_test_score  split4_train_score  std_fit_time  \\\n",
       "0           -0.916042          -3.971853           -4.010895     17.965865   \n",
       "1           -4.330982          -3.178170           -0.936487     17.216846   \n",
       "\n",
       "   std_score_time  std_test_score  std_train_score  \n",
       "0        0.001781        0.541202         1.245884  \n",
       "1        0.000470        0.422969         1.373158  \n",
       "\n",
       "[2 rows x 21 columns]"
      ]
     },
     "execution_count": 39,
     "metadata": {},
     "output_type": "execute_result"
    }
   ],
   "source": [
    "pd.DataFrame(grid_search.cv_results_)"
   ]
  },
  {
   "cell_type": "code",
   "execution_count": 40,
   "metadata": {},
   "outputs": [
    {
     "data": {
      "text/plain": [
       "3.6055512754639891"
      ]
     },
     "execution_count": 40,
     "metadata": {},
     "output_type": "execute_result"
    }
   ],
   "source": [
    "np.sqrt(13)"
   ]
  },
  {
   "cell_type": "code",
   "execution_count": null,
   "metadata": {
    "collapsed": true
   },
   "outputs": [],
   "source": []
  }
 ],
 "metadata": {
  "kernelspec": {
   "display_name": "Python 3",
   "language": "python",
   "name": "python3"
  },
  "language_info": {
   "codemirror_mode": {
    "name": "ipython",
    "version": 3
   },
   "file_extension": ".py",
   "mimetype": "text/x-python",
   "name": "python",
   "nbconvert_exporter": "python",
   "pygments_lexer": "ipython3",
   "version": "3.6.1"
  }
 },
 "nbformat": 4,
 "nbformat_minor": 2
}
