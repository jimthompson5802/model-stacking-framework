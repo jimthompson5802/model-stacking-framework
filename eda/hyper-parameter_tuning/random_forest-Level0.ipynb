{
 "cells": [
  {
   "cell_type": "code",
   "execution_count": 1,
   "metadata": {
    "collapsed": true
   },
   "outputs": [],
   "source": [
    "# required to get access to model_stacking package\n",
    "import os\n",
    "os.chdir('../..')"
   ]
  },
  {
   "cell_type": "code",
   "execution_count": 2,
   "metadata": {},
   "outputs": [
    {
     "name": "stdout",
     "output_type": "stream",
     "text": [
      "retrieving configuration file: config.yml from current working directory\n"
     ]
    }
   ],
   "source": [
    "import pandas as pd\n",
    "import numpy as np\n",
    "import matplotlib.pyplot as plt\n",
    "import seaborn as sns\n",
    "import os.path\n",
    "from framework.model_stacking import getConfigParameters\n",
    "import pickle"
   ]
  },
  {
   "cell_type": "code",
   "execution_count": 3,
   "metadata": {
    "collapsed": true
   },
   "outputs": [],
   "source": [
    "CONFIG = getConfigParameters()\n",
    "ROOT_DIR = CONFIG['ROOT_DIR']\n",
    "DATA_DIR = CONFIG['DATA_DIR']\n",
    "ID_VAR = CONFIG['ID_VAR']\n",
    "TARGET_VAR = CONFIG['TARGET_VAR']"
   ]
  },
  {
   "cell_type": "code",
   "execution_count": 4,
   "metadata": {
    "collapsed": true
   },
   "outputs": [],
   "source": [
    "from sklearn.ensemble import RandomForestRegressor as ThisModel\n",
    "from sklearn.pipeline import Pipeline\n",
    "from sklearn.model_selection import RandomizedSearchCV\n",
    "from sklearn.metrics import mean_squared_error, make_scorer\n",
    "from scipy.stats import randint"
   ]
  },
  {
   "cell_type": "code",
   "execution_count": 5,
   "metadata": {
    "collapsed": true
   },
   "outputs": [],
   "source": [
    "FEATURE_SET = 'KFS01'\n",
    "MODEL_ALGO = 'randomforest_level0_'+FEATURE_SET+'_hyp.pkl'"
   ]
  },
  {
   "cell_type": "code",
   "execution_count": 6,
   "metadata": {
    "collapsed": true
   },
   "outputs": [],
   "source": [
    "PARAM_GRID = dict(this_model__n_estimators=randint(100,800),\n",
    "                  this_model__min_samples_split=randint(2,8),\n",
    "                 this_model__max_depth=randint(2,15))\n",
    "\n",
    "N_ITER = 30"
   ]
  },
  {
   "cell_type": "markdown",
   "metadata": {},
   "source": [
    "## Get Training Data"
   ]
  },
  {
   "cell_type": "code",
   "execution_count": 7,
   "metadata": {
    "collapsed": true
   },
   "outputs": [],
   "source": [
    "# get training data\n",
    "train_df = pd.read_csv(os.path.join(ROOT_DIR,DATA_DIR,FEATURE_SET,'train.csv.gz'))"
   ]
  },
  {
   "cell_type": "code",
   "execution_count": 8,
   "metadata": {
    "collapsed": true
   },
   "outputs": [],
   "source": [
    "X_train = train_df.drop(ID_VAR + [TARGET_VAR],axis=1)\n",
    "y_train = train_df.loc[:,TARGET_VAR]"
   ]
  },
  {
   "cell_type": "code",
   "execution_count": 9,
   "metadata": {},
   "outputs": [
    {
     "data": {
      "text/plain": [
       "(4459, 4730)"
      ]
     },
     "execution_count": 9,
     "metadata": {},
     "output_type": "execute_result"
    }
   ],
   "source": [
    "X_train.shape"
   ]
  },
  {
   "cell_type": "code",
   "execution_count": 10,
   "metadata": {},
   "outputs": [
    {
     "data": {
      "text/plain": [
       "(4459,)"
      ]
     },
     "execution_count": 10,
     "metadata": {},
     "output_type": "execute_result"
    }
   ],
   "source": [
    "y_train.shape"
   ]
  },
  {
   "cell_type": "code",
   "execution_count": 11,
   "metadata": {},
   "outputs": [
    {
     "data": {
      "text/plain": [
       "0    17.453097\n",
       "1    13.304687\n",
       "2    16.118096\n",
       "3    14.508658\n",
       "4    16.482739\n",
       "5    14.845130\n",
       "6    12.007628\n",
       "7    13.304687\n",
       "8    13.794288\n",
       "9    13.038984\n",
       "Name: target, dtype: float64"
      ]
     },
     "execution_count": 11,
     "metadata": {},
     "output_type": "execute_result"
    }
   ],
   "source": [
    "y_train[:10]"
   ]
  },
  {
   "cell_type": "markdown",
   "metadata": {},
   "source": [
    "## Setup pipeline for hyper-parameter tuning"
   ]
  },
  {
   "cell_type": "code",
   "execution_count": 12,
   "metadata": {
    "collapsed": true
   },
   "outputs": [],
   "source": [
    "# set up pipeline\n",
    "pipe = Pipeline([('this_model',ThisModel(n_jobs=-1))])"
   ]
  },
  {
   "cell_type": "raw",
   "metadata": {
    "collapsed": true
   },
   "source": [
    "this_scorer = make_scorer(lambda y, y_hat: np.sqrt(mean_squared_error(y,y_hat)),greater_is_better=False)"
   ]
  },
  {
   "cell_type": "code",
   "execution_count": 13,
   "metadata": {
    "collapsed": true
   },
   "outputs": [],
   "source": [
    "def kag_rmsle(y,y_hat):\n",
    "    return np.sqrt(mean_squared_error(y,y_hat))\n",
    "\n",
    "this_scorer = make_scorer(kag_rmsle, greater_is_better=False)"
   ]
  },
  {
   "cell_type": "code",
   "execution_count": null,
   "metadata": {
    "collapsed": true
   },
   "outputs": [],
   "source": [
    "\n",
    "grid_search = RandomizedSearchCV(pipe, \n",
    "                                 param_distributions=PARAM_GRID,\n",
    "                                 scoring=this_scorer,cv=5,\n",
    "                                 n_iter=N_ITER,\n",
    "                                 verbose=2,\n",
    "                                 n_jobs=1,\n",
    "                                  refit=False)"
   ]
  },
  {
   "cell_type": "code",
   "execution_count": null,
   "metadata": {},
   "outputs": [
    {
     "name": "stdout",
     "output_type": "stream",
     "text": [
      "Fitting 5 folds for each of 30 candidates, totalling 150 fits\n",
      "[CV] this_model__max_depth=2, this_model__min_samples_split=4, this_model__n_estimators=202 \n",
      "[CV]  this_model__max_depth=2, this_model__min_samples_split=4, this_model__n_estimators=202, total=   4.7s\n",
      "[CV] this_model__max_depth=2, this_model__min_samples_split=4, this_model__n_estimators=202 \n"
     ]
    },
    {
     "name": "stderr",
     "output_type": "stream",
     "text": [
      "[Parallel(n_jobs=1)]: Done   1 out of   1 | elapsed:    4.8s remaining:    0.0s\n"
     ]
    },
    {
     "name": "stdout",
     "output_type": "stream",
     "text": [
      "[CV]  this_model__max_depth=2, this_model__min_samples_split=4, this_model__n_estimators=202, total=   4.6s\n",
      "[CV] this_model__max_depth=2, this_model__min_samples_split=4, this_model__n_estimators=202 \n",
      "[CV]  this_model__max_depth=2, this_model__min_samples_split=4, this_model__n_estimators=202, total=   4.8s\n",
      "[CV] this_model__max_depth=2, this_model__min_samples_split=4, this_model__n_estimators=202 \n",
      "[CV]  this_model__max_depth=2, this_model__min_samples_split=4, this_model__n_estimators=202, total=   5.0s\n",
      "[CV] this_model__max_depth=2, this_model__min_samples_split=4, this_model__n_estimators=202 \n",
      "[CV]  this_model__max_depth=2, this_model__min_samples_split=4, this_model__n_estimators=202, total=   4.8s\n",
      "[CV] this_model__max_depth=5, this_model__min_samples_split=6, this_model__n_estimators=460 \n",
      "[CV]  this_model__max_depth=5, this_model__min_samples_split=6, this_model__n_estimators=460, total=  27.5s\n",
      "[CV] this_model__max_depth=5, this_model__min_samples_split=6, this_model__n_estimators=460 \n",
      "[CV]  this_model__max_depth=5, this_model__min_samples_split=6, this_model__n_estimators=460, total=  28.1s\n",
      "[CV] this_model__max_depth=5, this_model__min_samples_split=6, this_model__n_estimators=460 \n",
      "[CV]  this_model__max_depth=5, this_model__min_samples_split=6, this_model__n_estimators=460, total=  27.7s\n",
      "[CV] this_model__max_depth=5, this_model__min_samples_split=6, this_model__n_estimators=460 \n",
      "[CV]  this_model__max_depth=5, this_model__min_samples_split=6, this_model__n_estimators=460, total=  27.7s\n",
      "[CV] this_model__max_depth=5, this_model__min_samples_split=6, this_model__n_estimators=460 \n",
      "[CV]  this_model__max_depth=5, this_model__min_samples_split=6, this_model__n_estimators=460, total=  27.5s\n",
      "[CV] this_model__max_depth=3, this_model__min_samples_split=7, this_model__n_estimators=134 \n",
      "[CV]  this_model__max_depth=3, this_model__min_samples_split=7, this_model__n_estimators=134, total=   5.2s\n",
      "[CV] this_model__max_depth=3, this_model__min_samples_split=7, this_model__n_estimators=134 \n",
      "[CV]  this_model__max_depth=3, this_model__min_samples_split=7, this_model__n_estimators=134, total=   5.0s\n",
      "[CV] this_model__max_depth=3, this_model__min_samples_split=7, this_model__n_estimators=134 \n",
      "[CV]  this_model__max_depth=3, this_model__min_samples_split=7, this_model__n_estimators=134, total=   5.0s\n",
      "[CV] this_model__max_depth=3, this_model__min_samples_split=7, this_model__n_estimators=134 \n",
      "[CV]  this_model__max_depth=3, this_model__min_samples_split=7, this_model__n_estimators=134, total=   5.1s\n",
      "[CV] this_model__max_depth=3, this_model__min_samples_split=7, this_model__n_estimators=134 \n",
      "[CV]  this_model__max_depth=3, this_model__min_samples_split=7, this_model__n_estimators=134, total=   5.0s\n",
      "[CV] this_model__max_depth=4, this_model__min_samples_split=6, this_model__n_estimators=288 \n",
      "[CV]  this_model__max_depth=4, this_model__min_samples_split=6, this_model__n_estimators=288, total=  16.3s\n",
      "[CV] this_model__max_depth=4, this_model__min_samples_split=6, this_model__n_estimators=288 \n",
      "[CV]  this_model__max_depth=4, this_model__min_samples_split=6, this_model__n_estimators=288, total=  14.4s\n",
      "[CV] this_model__max_depth=4, this_model__min_samples_split=6, this_model__n_estimators=288 \n",
      "[CV]  this_model__max_depth=4, this_model__min_samples_split=6, this_model__n_estimators=288, total=  14.5s\n",
      "[CV] this_model__max_depth=4, this_model__min_samples_split=6, this_model__n_estimators=288 \n",
      "[CV]  this_model__max_depth=4, this_model__min_samples_split=6, this_model__n_estimators=288, total=  14.2s\n",
      "[CV] this_model__max_depth=4, this_model__min_samples_split=6, this_model__n_estimators=288 \n",
      "[CV]  this_model__max_depth=4, this_model__min_samples_split=6, this_model__n_estimators=288, total=  14.0s\n",
      "[CV] this_model__max_depth=8, this_model__min_samples_split=6, this_model__n_estimators=483 \n",
      "[CV]  this_model__max_depth=8, this_model__min_samples_split=6, this_model__n_estimators=483, total=  47.7s\n",
      "[CV] this_model__max_depth=8, this_model__min_samples_split=6, this_model__n_estimators=483 \n",
      "[CV]  this_model__max_depth=8, this_model__min_samples_split=6, this_model__n_estimators=483, total=  48.9s\n",
      "[CV] this_model__max_depth=8, this_model__min_samples_split=6, this_model__n_estimators=483 \n",
      "[CV]  this_model__max_depth=8, this_model__min_samples_split=6, this_model__n_estimators=483, total=  49.2s\n",
      "[CV] this_model__max_depth=8, this_model__min_samples_split=6, this_model__n_estimators=483 \n",
      "[CV]  this_model__max_depth=8, this_model__min_samples_split=6, this_model__n_estimators=483, total=  48.6s\n",
      "[CV] this_model__max_depth=8, this_model__min_samples_split=6, this_model__n_estimators=483 \n",
      "[CV]  this_model__max_depth=8, this_model__min_samples_split=6, this_model__n_estimators=483, total=  48.6s\n",
      "[CV] this_model__max_depth=9, this_model__min_samples_split=6, this_model__n_estimators=644 \n",
      "[CV]  this_model__max_depth=9, this_model__min_samples_split=6, this_model__n_estimators=644, total= 1.2min\n",
      "[CV] this_model__max_depth=9, this_model__min_samples_split=6, this_model__n_estimators=644 \n",
      "[CV]  this_model__max_depth=9, this_model__min_samples_split=6, this_model__n_estimators=644, total= 1.2min\n",
      "[CV] this_model__max_depth=9, this_model__min_samples_split=6, this_model__n_estimators=644 \n",
      "[CV]  this_model__max_depth=9, this_model__min_samples_split=6, this_model__n_estimators=644, total= 1.2min\n",
      "[CV] this_model__max_depth=9, this_model__min_samples_split=6, this_model__n_estimators=644 \n",
      "[CV]  this_model__max_depth=9, this_model__min_samples_split=6, this_model__n_estimators=644, total= 1.2min\n",
      "[CV] this_model__max_depth=9, this_model__min_samples_split=6, this_model__n_estimators=644 \n",
      "[CV]  this_model__max_depth=9, this_model__min_samples_split=6, this_model__n_estimators=644, total= 1.2min\n",
      "[CV] this_model__max_depth=6, this_model__min_samples_split=5, this_model__n_estimators=297 \n",
      "[CV]  this_model__max_depth=6, this_model__min_samples_split=5, this_model__n_estimators=297, total=  22.3s\n",
      "[CV] this_model__max_depth=6, this_model__min_samples_split=5, this_model__n_estimators=297 \n",
      "[CV]  this_model__max_depth=6, this_model__min_samples_split=5, this_model__n_estimators=297, total=  22.4s\n",
      "[CV] this_model__max_depth=6, this_model__min_samples_split=5, this_model__n_estimators=297 \n",
      "[CV]  this_model__max_depth=6, this_model__min_samples_split=5, this_model__n_estimators=297, total=  22.4s\n",
      "[CV] this_model__max_depth=6, this_model__min_samples_split=5, this_model__n_estimators=297 \n",
      "[CV]  this_model__max_depth=6, this_model__min_samples_split=5, this_model__n_estimators=297, total=  22.5s\n",
      "[CV] this_model__max_depth=6, this_model__min_samples_split=5, this_model__n_estimators=297 \n",
      "[CV]  this_model__max_depth=6, this_model__min_samples_split=5, this_model__n_estimators=297, total=  22.1s\n",
      "[CV] this_model__max_depth=7, this_model__min_samples_split=3, this_model__n_estimators=143 \n",
      "[CV]  this_model__max_depth=7, this_model__min_samples_split=3, this_model__n_estimators=143, total=  12.7s\n",
      "[CV] this_model__max_depth=7, this_model__min_samples_split=3, this_model__n_estimators=143 \n",
      "[CV]  this_model__max_depth=7, this_model__min_samples_split=3, this_model__n_estimators=143, total=  12.8s\n",
      "[CV] this_model__max_depth=7, this_model__min_samples_split=3, this_model__n_estimators=143 \n",
      "[CV]  this_model__max_depth=7, this_model__min_samples_split=3, this_model__n_estimators=143, total=  12.7s\n",
      "[CV] this_model__max_depth=7, this_model__min_samples_split=3, this_model__n_estimators=143 \n",
      "[CV]  this_model__max_depth=7, this_model__min_samples_split=3, this_model__n_estimators=143, total=  12.8s\n",
      "[CV] this_model__max_depth=7, this_model__min_samples_split=3, this_model__n_estimators=143 \n",
      "[CV]  this_model__max_depth=7, this_model__min_samples_split=3, this_model__n_estimators=143, total=  13.2s\n",
      "[CV] this_model__max_depth=9, this_model__min_samples_split=3, this_model__n_estimators=128 \n",
      "[CV]  this_model__max_depth=9, this_model__min_samples_split=3, this_model__n_estimators=128, total=  14.8s\n",
      "[CV] this_model__max_depth=9, this_model__min_samples_split=3, this_model__n_estimators=128 \n",
      "[CV]  this_model__max_depth=9, this_model__min_samples_split=3, this_model__n_estimators=128, total=  14.7s\n",
      "[CV] this_model__max_depth=9, this_model__min_samples_split=3, this_model__n_estimators=128 \n"
     ]
    },
    {
     "name": "stdout",
     "output_type": "stream",
     "text": [
      "[CV]  this_model__max_depth=9, this_model__min_samples_split=3, this_model__n_estimators=128, total=  14.9s\n",
      "[CV] this_model__max_depth=9, this_model__min_samples_split=3, this_model__n_estimators=128 \n",
      "[CV]  this_model__max_depth=9, this_model__min_samples_split=3, this_model__n_estimators=128, total=  15.1s\n",
      "[CV] this_model__max_depth=9, this_model__min_samples_split=3, this_model__n_estimators=128 \n",
      "[CV]  this_model__max_depth=9, this_model__min_samples_split=3, this_model__n_estimators=128, total=  14.6s\n",
      "[CV] this_model__max_depth=4, this_model__min_samples_split=2, this_model__n_estimators=385 \n",
      "[CV]  this_model__max_depth=4, this_model__min_samples_split=2, this_model__n_estimators=385, total=  19.2s\n",
      "[CV] this_model__max_depth=4, this_model__min_samples_split=2, this_model__n_estimators=385 \n",
      "[CV]  this_model__max_depth=4, this_model__min_samples_split=2, this_model__n_estimators=385, total=  19.3s\n",
      "[CV] this_model__max_depth=4, this_model__min_samples_split=2, this_model__n_estimators=385 \n",
      "[CV]  this_model__max_depth=4, this_model__min_samples_split=2, this_model__n_estimators=385, total=  19.8s\n",
      "[CV] this_model__max_depth=4, this_model__min_samples_split=2, this_model__n_estimators=385 \n",
      "[CV]  this_model__max_depth=4, this_model__min_samples_split=2, this_model__n_estimators=385, total=  19.3s\n",
      "[CV] this_model__max_depth=4, this_model__min_samples_split=2, this_model__n_estimators=385 \n",
      "[CV]  this_model__max_depth=4, this_model__min_samples_split=2, this_model__n_estimators=385, total=  19.7s\n",
      "[CV] this_model__max_depth=10, this_model__min_samples_split=6, this_model__n_estimators=393 \n",
      "[CV]  this_model__max_depth=10, this_model__min_samples_split=6, this_model__n_estimators=393, total=  48.7s\n",
      "[CV] this_model__max_depth=10, this_model__min_samples_split=6, this_model__n_estimators=393 \n",
      "[CV]  this_model__max_depth=10, this_model__min_samples_split=6, this_model__n_estimators=393, total=  48.1s\n",
      "[CV] this_model__max_depth=10, this_model__min_samples_split=6, this_model__n_estimators=393 \n",
      "[CV]  this_model__max_depth=10, this_model__min_samples_split=6, this_model__n_estimators=393, total=  48.1s\n",
      "[CV] this_model__max_depth=10, this_model__min_samples_split=6, this_model__n_estimators=393 \n",
      "[CV]  this_model__max_depth=10, this_model__min_samples_split=6, this_model__n_estimators=393, total=  49.6s\n",
      "[CV] this_model__max_depth=10, this_model__min_samples_split=6, this_model__n_estimators=393 \n",
      "[CV]  this_model__max_depth=10, this_model__min_samples_split=6, this_model__n_estimators=393, total=  48.2s\n",
      "[CV] this_model__max_depth=9, this_model__min_samples_split=2, this_model__n_estimators=661 \n",
      "[CV]  this_model__max_depth=9, this_model__min_samples_split=2, this_model__n_estimators=661, total= 1.3min\n",
      "[CV] this_model__max_depth=9, this_model__min_samples_split=2, this_model__n_estimators=661 \n",
      "[CV]  this_model__max_depth=9, this_model__min_samples_split=2, this_model__n_estimators=661, total= 1.3min\n",
      "[CV] this_model__max_depth=9, this_model__min_samples_split=2, this_model__n_estimators=661 \n",
      "[CV]  this_model__max_depth=9, this_model__min_samples_split=2, this_model__n_estimators=661, total= 1.4min\n",
      "[CV] this_model__max_depth=9, this_model__min_samples_split=2, this_model__n_estimators=661 \n",
      "[CV]  this_model__max_depth=9, this_model__min_samples_split=2, this_model__n_estimators=661, total= 1.3min\n",
      "[CV] this_model__max_depth=9, this_model__min_samples_split=2, this_model__n_estimators=661 \n",
      "[CV]  this_model__max_depth=9, this_model__min_samples_split=2, this_model__n_estimators=661, total= 1.3min\n",
      "[CV] this_model__max_depth=10, this_model__min_samples_split=4, this_model__n_estimators=490 \n",
      "[CV]  this_model__max_depth=10, this_model__min_samples_split=4, this_model__n_estimators=490, total= 1.0min\n",
      "[CV] this_model__max_depth=10, this_model__min_samples_split=4, this_model__n_estimators=490 \n",
      "[CV]  this_model__max_depth=10, this_model__min_samples_split=4, this_model__n_estimators=490, total= 1.0min\n",
      "[CV] this_model__max_depth=10, this_model__min_samples_split=4, this_model__n_estimators=490 \n",
      "[CV]  this_model__max_depth=10, this_model__min_samples_split=4, this_model__n_estimators=490, total= 1.0min\n",
      "[CV] this_model__max_depth=10, this_model__min_samples_split=4, this_model__n_estimators=490 \n",
      "[CV]  this_model__max_depth=10, this_model__min_samples_split=4, this_model__n_estimators=490, total= 1.0min\n",
      "[CV] this_model__max_depth=10, this_model__min_samples_split=4, this_model__n_estimators=490 \n",
      "[CV]  this_model__max_depth=10, this_model__min_samples_split=4, this_model__n_estimators=490, total= 1.0min\n",
      "[CV] this_model__max_depth=8, this_model__min_samples_split=2, this_model__n_estimators=246 \n",
      "[CV]  this_model__max_depth=8, this_model__min_samples_split=2, this_model__n_estimators=246, total=  25.0s\n",
      "[CV] this_model__max_depth=8, this_model__min_samples_split=2, this_model__n_estimators=246 \n",
      "[CV]  this_model__max_depth=8, this_model__min_samples_split=2, this_model__n_estimators=246, total=  25.1s\n",
      "[CV] this_model__max_depth=8, this_model__min_samples_split=2, this_model__n_estimators=246 \n",
      "[CV]  this_model__max_depth=8, this_model__min_samples_split=2, this_model__n_estimators=246, total=  25.2s\n",
      "[CV] this_model__max_depth=8, this_model__min_samples_split=2, this_model__n_estimators=246 \n",
      "[CV]  this_model__max_depth=8, this_model__min_samples_split=2, this_model__n_estimators=246, total=  25.3s\n",
      "[CV] this_model__max_depth=8, this_model__min_samples_split=2, this_model__n_estimators=246 \n",
      "[CV]  this_model__max_depth=8, this_model__min_samples_split=2, this_model__n_estimators=246, total=  25.0s\n",
      "[CV] this_model__max_depth=10, this_model__min_samples_split=3, this_model__n_estimators=682 \n",
      "[CV]  this_model__max_depth=10, this_model__min_samples_split=3, this_model__n_estimators=682, total= 1.5min\n",
      "[CV] this_model__max_depth=10, this_model__min_samples_split=3, this_model__n_estimators=682 \n",
      "[CV]  this_model__max_depth=10, this_model__min_samples_split=3, this_model__n_estimators=682, total= 1.5min\n",
      "[CV] this_model__max_depth=10, this_model__min_samples_split=3, this_model__n_estimators=682 \n",
      "[CV]  this_model__max_depth=10, this_model__min_samples_split=3, this_model__n_estimators=682, total= 1.4min\n",
      "[CV] this_model__max_depth=10, this_model__min_samples_split=3, this_model__n_estimators=682 \n",
      "[CV]  this_model__max_depth=10, this_model__min_samples_split=3, this_model__n_estimators=682, total= 1.5min\n",
      "[CV] this_model__max_depth=10, this_model__min_samples_split=3, this_model__n_estimators=682 \n",
      "[CV]  this_model__max_depth=10, this_model__min_samples_split=3, this_model__n_estimators=682, total= 1.5min\n",
      "[CV] this_model__max_depth=7, this_model__min_samples_split=2, this_model__n_estimators=489 \n",
      "[CV]  this_model__max_depth=7, this_model__min_samples_split=2, this_model__n_estimators=489, total=  43.2s\n",
      "[CV] this_model__max_depth=7, this_model__min_samples_split=2, this_model__n_estimators=489 \n",
      "[CV]  this_model__max_depth=7, this_model__min_samples_split=2, this_model__n_estimators=489, total=  45.0s\n",
      "[CV] this_model__max_depth=7, this_model__min_samples_split=2, this_model__n_estimators=489 \n",
      "[CV]  this_model__max_depth=7, this_model__min_samples_split=2, this_model__n_estimators=489, total=  45.1s\n",
      "[CV] this_model__max_depth=7, this_model__min_samples_split=2, this_model__n_estimators=489 \n",
      "[CV]  this_model__max_depth=7, this_model__min_samples_split=2, this_model__n_estimators=489, total=  45.8s\n",
      "[CV] this_model__max_depth=7, this_model__min_samples_split=2, this_model__n_estimators=489 \n",
      "[CV]  this_model__max_depth=7, this_model__min_samples_split=2, this_model__n_estimators=489, total=  43.4s\n",
      "[CV] this_model__max_depth=13, this_model__min_samples_split=7, this_model__n_estimators=718 \n",
      "[CV]  this_model__max_depth=13, this_model__min_samples_split=7, this_model__n_estimators=718, total= 1.8min\n",
      "[CV] this_model__max_depth=13, this_model__min_samples_split=7, this_model__n_estimators=718 \n",
      "[CV]  this_model__max_depth=13, this_model__min_samples_split=7, this_model__n_estimators=718, total= 1.8min\n",
      "[CV] this_model__max_depth=13, this_model__min_samples_split=7, this_model__n_estimators=718 \n",
      "[CV]  this_model__max_depth=13, this_model__min_samples_split=7, this_model__n_estimators=718, total= 1.8min\n",
      "[CV] this_model__max_depth=13, this_model__min_samples_split=7, this_model__n_estimators=718 \n"
     ]
    },
    {
     "name": "stdout",
     "output_type": "stream",
     "text": [
      "[CV]  this_model__max_depth=13, this_model__min_samples_split=7, this_model__n_estimators=718, total= 1.8min\n",
      "[CV] this_model__max_depth=13, this_model__min_samples_split=7, this_model__n_estimators=718 \n",
      "[CV]  this_model__max_depth=13, this_model__min_samples_split=7, this_model__n_estimators=718, total= 1.8min\n",
      "[CV] this_model__max_depth=11, this_model__min_samples_split=2, this_model__n_estimators=435 \n",
      "[CV]  this_model__max_depth=11, this_model__min_samples_split=2, this_model__n_estimators=435, total= 1.0min\n",
      "[CV] this_model__max_depth=11, this_model__min_samples_split=2, this_model__n_estimators=435 \n",
      "[CV]  this_model__max_depth=11, this_model__min_samples_split=2, this_model__n_estimators=435, total= 1.0min\n",
      "[CV] this_model__max_depth=11, this_model__min_samples_split=2, this_model__n_estimators=435 \n",
      "[CV]  this_model__max_depth=11, this_model__min_samples_split=2, this_model__n_estimators=435, total= 1.0min\n",
      "[CV] this_model__max_depth=11, this_model__min_samples_split=2, this_model__n_estimators=435 \n",
      "[CV]  this_model__max_depth=11, this_model__min_samples_split=2, this_model__n_estimators=435, total= 1.0min\n",
      "[CV] this_model__max_depth=11, this_model__min_samples_split=2, this_model__n_estimators=435 \n",
      "[CV]  this_model__max_depth=11, this_model__min_samples_split=2, this_model__n_estimators=435, total= 1.0min\n",
      "[CV] this_model__max_depth=6, this_model__min_samples_split=3, this_model__n_estimators=245 \n",
      "[CV]  this_model__max_depth=6, this_model__min_samples_split=3, this_model__n_estimators=245, total=  19.4s\n",
      "[CV] this_model__max_depth=6, this_model__min_samples_split=3, this_model__n_estimators=245 \n",
      "[CV]  this_model__max_depth=6, this_model__min_samples_split=3, this_model__n_estimators=245, total=  19.1s\n",
      "[CV] this_model__max_depth=6, this_model__min_samples_split=3, this_model__n_estimators=245 \n",
      "[CV]  this_model__max_depth=6, this_model__min_samples_split=3, this_model__n_estimators=245, total=  20.2s\n",
      "[CV] this_model__max_depth=6, this_model__min_samples_split=3, this_model__n_estimators=245 \n",
      "[CV]  this_model__max_depth=6, this_model__min_samples_split=3, this_model__n_estimators=245, total=  19.5s\n",
      "[CV] this_model__max_depth=6, this_model__min_samples_split=3, this_model__n_estimators=245 \n",
      "[CV]  this_model__max_depth=6, this_model__min_samples_split=3, this_model__n_estimators=245, total=  19.0s\n",
      "[CV] this_model__max_depth=13, this_model__min_samples_split=2, this_model__n_estimators=722 \n",
      "[CV]  this_model__max_depth=13, this_model__min_samples_split=2, this_model__n_estimators=722, total= 2.0min\n",
      "[CV] this_model__max_depth=13, this_model__min_samples_split=2, this_model__n_estimators=722 \n",
      "[CV]  this_model__max_depth=13, this_model__min_samples_split=2, this_model__n_estimators=722, total= 2.0min\n",
      "[CV] this_model__max_depth=13, this_model__min_samples_split=2, this_model__n_estimators=722 \n",
      "[CV]  this_model__max_depth=13, this_model__min_samples_split=2, this_model__n_estimators=722, total= 2.0min\n",
      "[CV] this_model__max_depth=13, this_model__min_samples_split=2, this_model__n_estimators=722 \n",
      "[CV]  this_model__max_depth=13, this_model__min_samples_split=2, this_model__n_estimators=722, total= 2.0min\n",
      "[CV] this_model__max_depth=13, this_model__min_samples_split=2, this_model__n_estimators=722 \n",
      "[CV]  this_model__max_depth=13, this_model__min_samples_split=2, this_model__n_estimators=722, total= 2.0min\n",
      "[CV] this_model__max_depth=9, this_model__min_samples_split=2, this_model__n_estimators=777 \n",
      "[CV]  this_model__max_depth=9, this_model__min_samples_split=2, this_model__n_estimators=777, total= 1.5min\n",
      "[CV] this_model__max_depth=9, this_model__min_samples_split=2, this_model__n_estimators=777 \n",
      "[CV]  this_model__max_depth=9, this_model__min_samples_split=2, this_model__n_estimators=777, total= 1.5min\n",
      "[CV] this_model__max_depth=9, this_model__min_samples_split=2, this_model__n_estimators=777 \n"
     ]
    }
   ],
   "source": [
    "grid_search.fit(X_train,y_train)"
   ]
  },
  {
   "cell_type": "code",
   "execution_count": null,
   "metadata": {},
   "outputs": [],
   "source": [
    "grid_search.best_params_"
   ]
  },
  {
   "cell_type": "code",
   "execution_count": null,
   "metadata": {},
   "outputs": [],
   "source": [
    "grid_search.best_score_"
   ]
  },
  {
   "cell_type": "code",
   "execution_count": null,
   "metadata": {},
   "outputs": [],
   "source": [
    "df = pd.DataFrame(grid_search.cv_results_).sort_values('rank_test_score')\n",
    "df"
   ]
  },
  {
   "cell_type": "code",
   "execution_count": null,
   "metadata": {
    "collapsed": true
   },
   "outputs": [],
   "source": [
    "hyper_parameters = dict(FeatureSet=FEATURE_SET,cv_run=df)\n",
    "with open(os.path.join(CONFIG['ROOT_DIR'],'eda','hyper-parameter_tuning',MODEL_ALGO),'wb') as f:\n",
    "    pickle.dump(hyper_parameters,f)"
   ]
  }
 ],
 "metadata": {
  "kernelspec": {
   "display_name": "Python 3",
   "language": "python",
   "name": "python3"
  },
  "language_info": {
   "codemirror_mode": {
    "name": "ipython",
    "version": 3
   },
   "file_extension": ".py",
   "mimetype": "text/x-python",
   "name": "python",
   "nbconvert_exporter": "python",
   "pygments_lexer": "ipython3",
   "version": "3.6.1"
  }
 },
 "nbformat": 4,
 "nbformat_minor": 2
}
